{
 "cells": [
  {
   "cell_type": "code",
   "execution_count": 1,
   "id": "8686ea5b-047d-41f2-a11f-9615626f94c5",
   "metadata": {},
   "outputs": [],
   "source": [
    "import pandas as pd"
   ]
  },
  {
   "cell_type": "code",
   "execution_count": 3,
   "id": "4937c8f2-16fb-40f4-b999-d9a1bdf5fb4e",
   "metadata": {},
   "outputs": [],
   "source": [
    "data = pd.read_parquet('passages.parquet')"
   ]
  },
  {
   "cell_type": "code",
   "execution_count": 5,
   "id": "88bc3f60-ebc9-4862-a5bc-68184d38b2be",
   "metadata": {},
   "outputs": [],
   "source": [
    "para = [i for i in data['passage']]"
   ]
  },
  {
   "cell_type": "code",
   "execution_count": null,
   "id": "00345e14-c2c5-4c93-8827-36d97349a5d1",
   "metadata": {},
   "outputs": [],
   "source": [
    "from tqdm import tqdm\n",
    "text = \"\"\n",
    "for i in tqdm(para):\n",
    "    text+=i"
   ]
  },
  {
   "cell_type": "code",
   "execution_count": null,
   "id": "5dc8c8f0-564e-4846-9069-c9e3452b4569",
   "metadata": {},
   "outputs": [],
   "source": [
    "text"
   ]
  }
 ],
 "metadata": {
  "kernelspec": {
   "display_name": "Python 3 (ipykernel)",
   "language": "python",
   "name": "python3"
  },
  "language_info": {
   "codemirror_mode": {
    "name": "ipython",
    "version": 3
   },
   "file_extension": ".py",
   "mimetype": "text/x-python",
   "name": "python",
   "nbconvert_exporter": "python",
   "pygments_lexer": "ipython3",
   "version": "3.12.4"
  }
 },
 "nbformat": 4,
 "nbformat_minor": 5
}
